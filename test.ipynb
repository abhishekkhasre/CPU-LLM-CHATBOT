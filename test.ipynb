{
 "cells": [
  {
   "cell_type": "code",
   "execution_count": 49,
   "id": "35043ac0",
   "metadata": {},
   "outputs": [],
   "source": [
    "from langchain.chains.combine_documents import create_stuff_documents_chain\n",
    "from langchain_core.prompts import ChatPromptTemplate\n",
    "from langchain.chains import create_retrieval_chain\n",
    "from langchain_community.llms import Ollama\n",
    "from langchain_community.vectorstores import Chroma\n",
    "from langchain_community.embeddings import OllamaEmbeddings\n",
    "\n",
    "def load_chains():\n",
    "    # Step 1: Embedding model\n",
    "    embedding_model = OllamaEmbeddings(model=\"nomic-embed-text\")\n",
    "\n",
    "    # Step 2: Prompt for document chain\n",
    "    prompt = ChatPromptTemplate.from_template(\n",
    "        \"\"\"Answer the following question in detailed based only on the provided context:\n",
    "\n",
    "<context>\n",
    "{context}\n",
    "</context>\n",
    "\n",
    "Question: {input}\n",
    "Answer:\"\"\"\n",
    "    )\n",
    "\n",
    "    # Step 3: LLM and document chain\n",
    "    llm = Ollama(model=\"gemma3:1b\")\n",
    "    document_chain = create_stuff_documents_chain(llm, prompt)\n",
    "\n",
    "    # Step 4: Retriever from Chroma vectorstore\n",
    "    vectorstore = Chroma(\n",
    "        persist_directory=\"vectorstore\",\n",
    "        embedding_function=embedding_model\n",
    "    )\n",
    "    retriever = vectorstore.as_retriever(search_kwargs={\"k\": 5})  # optional: increase recall\n",
    "\n",
    "    # Step 5: Retrieval chain\n",
    "    retrieval_chain = create_retrieval_chain(retriever, document_chain)\n",
    "\n",
    "    return retrieval_chain\n",
    "\n"
   ]
  },
  {
   "cell_type": "code",
   "execution_count": 50,
   "id": "3c713380",
   "metadata": {},
   "outputs": [],
   "source": [
    "chain = load_chains()\n"
   ]
  },
  {
   "cell_type": "code",
   "execution_count": 53,
   "id": "70cc38e0",
   "metadata": {},
   "outputs": [
    {
     "name": "stdout",
     "output_type": "stream",
     "text": [
      "The encoder is a stack of N = 6 identical layers. Each layer has two sub-layers: a multi-head self-attention mechanism and a simple, position-wise fully connected feed-forward network.\n"
     ]
    }
   ],
   "source": [
    "response = chain.invoke({\"input\": \"What is Encoder?\"})\n",
    "print(response[\"answer\"])"
   ]
  }
 ],
 "metadata": {
  "kernelspec": {
   "display_name": "venv",
   "language": "python",
   "name": "python3"
  },
  "language_info": {
   "codemirror_mode": {
    "name": "ipython",
    "version": 3
   },
   "file_extension": ".py",
   "mimetype": "text/x-python",
   "name": "python",
   "nbconvert_exporter": "python",
   "pygments_lexer": "ipython3",
   "version": "3.12.7"
  }
 },
 "nbformat": 4,
 "nbformat_minor": 5
}
